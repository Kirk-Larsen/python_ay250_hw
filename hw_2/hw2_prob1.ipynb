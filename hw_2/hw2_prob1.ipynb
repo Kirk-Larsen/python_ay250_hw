{
 "cells": [
  {
   "cell_type": "code",
   "execution_count": null,
   "metadata": {},
   "outputs": [],
   "source": [
    "import numpy as np\n",
    "import matplotlib.pyplot as plt\n",
    "from bokeh.plotting import figure, output_file, show, output_notebook, ColumnDataSource\n",
    "from bokeh.models import LinearColorMapper, ColorBar, CustomJS, Rect, HoverTool\n",
    "from bokeh.layouts import column\n",
    "\n",
    "%matplotlib notebook\n",
    "\n",
    "output_notebook()"
   ]
  },
  {
   "cell_type": "code",
   "execution_count": null,
   "metadata": {
    "collapsed": true
   },
   "outputs": [],
   "source": [
    "#match the paths to the binary files containing data to the file locations on machine \n",
    "\n",
    "field400 = np.load('/Users/danslaughter/Downloads/Field_400_norm_array.npy')\n",
    "x = np.load('/Users/danslaughter/Downloads/times_array.npy')\n",
    "y = np.load('/Users/danslaughter/Downloads/intensities_array.npy')"
   ]
  },
  {
   "cell_type": "code",
   "execution_count": null,
   "metadata": {},
   "outputs": [],
   "source": [
    "#create bokeh figure to compare with original matplotlib figure\n",
    "\n",
    "TOOLS = \"crosshair, pan, wheel_zoom, zoom_in, zoom_out, box_zoom, undo, redo, reset, save\"\n",
    "\n",
    "p = figure(tools = TOOLS, plot_width = 600, plot_height = 400, \n",
    "           x_range = (np.amin(x), np.amax(x)), y_range = (np.amin(y), np.amax(y)))\n",
    "\n",
    "p.image(image = [field400], x = [np.amin(x)], y = [np.amin(y)], dw = [np.amax(x) - np.amin(x)],\n",
    "         dh = [np.amax(y) - np.amin(y)], palette = \"Viridis256\")\n",
    "\n",
    "color_mapper = LinearColorMapper(palette = \"Viridis256\", low = 0.0, high = 1.0)\n",
    "color_bar = ColorBar(color_mapper = color_mapper,\n",
    "                     label_standoff = 12, border_line_color = None, location = (0,0))\n",
    "\n",
    "p.add_layout(color_bar, 'right')\n",
    "\n",
    "p.title.text = \"9th Harmonic Intensity\"\n",
    "p.title.text_font_size = \"18px\"\n",
    "p.title.text_font = \"times\"\n",
    "p.title.text_font_style = \"bold\"\n",
    "p.title.align = \"left\"\n",
    "\n",
    "p.xaxis.axis_label = \"Time (fs)\"\n",
    "p.xaxis.axis_label_text_font = \"times\"\n",
    "p.xaxis.axis_label_text_font_size = \"14px\"\n",
    "p.xaxis.axis_label_text_font_style = \"normal\"\n",
    "\n",
    "p.yaxis.axis_label = \"Peak Intensity (a.u.)\"\n",
    "p.yaxis.axis_label_text_font = \"times\"\n",
    "p.yaxis.axis_label_text_font_size = \"14px\"\n",
    "p.yaxis.axis_label_text_font_style = \"normal\"\n",
    "\n",
    "show(p)"
   ]
  },
  {
   "cell_type": "code",
   "execution_count": null,
   "metadata": {
    "collapsed": true
   },
   "outputs": [],
   "source": [
    "#create bokeh figure 1 for dynamic interactive figure\n",
    "\n",
    "p1 = figure(tools = TOOLS, plot_width = 600, plot_height = 400, \n",
    "           x_range = (np.amin(x), np.amax(x)), y_range = (np.amin(y), np.amax(y)))\n",
    "\n",
    "p1.image(image = [field400], x = [np.amin(x)], y = [np.amin(y)], dw = [np.amax(x) - np.amin(x)],\n",
    "         dh = [np.amax(y) - np.amin(y)], palette = \"Viridis256\")\n",
    "\n",
    "color_mapper = LinearColorMapper(palette = \"Viridis256\", low = 0.0, high = 1.0)\n",
    "color_bar = ColorBar(color_mapper = color_mapper,\n",
    "                     label_standoff = 12, border_line_color = None, location = (0,0))\n",
    "\n",
    "p1.add_layout(color_bar, 'right')\n",
    "\n",
    "p1.title.text = \"9th Harmonic Intensity (Pan/Zoom Here)\"\n",
    "p1.title.text_font_size = \"18px\"\n",
    "p1.title.text_font = \"times\"\n",
    "p1.title.text_font_style = \"bold\"\n",
    "p1.title.align = \"left\"\n",
    "\n",
    "p1.xaxis.axis_label = \"Time (fs)\"\n",
    "p1.xaxis.axis_label_text_font = \"times\"\n",
    "p1.xaxis.axis_label_text_font_size = \"14px\"\n",
    "p1.xaxis.axis_label_text_font_style = \"normal\"\n",
    "\n",
    "p1.yaxis.axis_label = \"Peak Intensity (a.u.)\"\n",
    "p1.yaxis.axis_label_text_font = \"times\"\n",
    "p1.yaxis.axis_label_text_font_size = \"14px\"\n",
    "p1.yaxis.axis_label_text_font_style = \"normal\"\n",
    "\n",
    "source = ColumnDataSource({'x': [], 'y': [], 'width': [], 'height': []})\n",
    "\n",
    "jscode=\"\"\"\n",
    "    var data = source.data;\n",
    "    var start = cb_obj.start;\n",
    "    var end = cb_obj.end;\n",
    "    data['%s'] = [start + (end - start) / 2];\n",
    "    data['%s'] = [end - start];\n",
    "    source.change.emit();\n",
    "\"\"\"\n",
    "\n",
    "p1.x_range.callback = CustomJS(args = dict(source = source), code = jscode % ('x', 'width'))\n",
    "p1.y_range.callback = CustomJS(args = dict(source = source), code = jscode % ('y', 'height'))"
   ]
  },
  {
   "cell_type": "code",
   "execution_count": null,
   "metadata": {
    "collapsed": true
   },
   "outputs": [],
   "source": [
    "#create bokeh figure 2 for dynamic interactive figure\n",
    "\n",
    "p2 = figure(tools = TOOLS, plot_width = 600, plot_height = 400, \n",
    "           x_range = (np.amin(x), np.amax(x)), y_range = (np.amin(y), np.amax(y)))\n",
    "\n",
    "p2.image(image = [field400], x = [np.amin(x)], y = [np.amin(y)], dw = [np.amax(x) - np.amin(x)],\n",
    "         dh = [np.amax(y) - np.amin(y)], palette = \"Viridis256\")\n",
    "\n",
    "color_mapper = LinearColorMapper(palette = \"Viridis256\", low = 0.0, high = 1.0)\n",
    "color_bar = ColorBar(color_mapper = color_mapper,\n",
    "                     label_standoff = 12, border_line_color = None, location = (0,0))\n",
    "\n",
    "p2.add_layout(color_bar, 'right')\n",
    "\n",
    "p2.title.text = \"9th Harmonic Intensity (View Pan/Zoom Window Here)\"\n",
    "p2.title.text_font_size = \"18px\"\n",
    "p2.title.text_font = \"times\"\n",
    "p2.title.text_font_style = \"bold\"\n",
    "p2.title.align = \"left\"\n",
    "\n",
    "p2.xaxis.axis_label = \"Time (fs)\"\n",
    "p2.xaxis.axis_label_text_font = \"times\"\n",
    "p2.xaxis.axis_label_text_font_size = \"14px\"\n",
    "p2.xaxis.axis_label_text_font_style = \"normal\"\n",
    "\n",
    "p2.yaxis.axis_label = \"Peak Intensity (a.u.)\"\n",
    "p2.yaxis.axis_label_text_font = \"times\"\n",
    "p2.yaxis.axis_label_text_font_size = \"14px\"\n",
    "p2.yaxis.axis_label_text_font_style = \"normal\""
   ]
  },
  {
   "cell_type": "code",
   "execution_count": null,
   "metadata": {},
   "outputs": [],
   "source": [
    "rect = Rect(x = 'x', y = 'y', width = 'width', height = 'height', fill_alpha = 0.1,\n",
    "            line_color = 'black', fill_color = 'black')\n",
    "\n",
    "p2.add_glyph(source, rect)\n",
    "\n",
    "layout = column([p1, p2])\n",
    "\n",
    "show(layout)\n",
    "\n",
    "#in this interaction, when panning and zooming in the top figure (figure 1),\n",
    "#the location of the panned or zoomed view window is shown in the bottom figure (figure 2)"
   ]
  },
  {
   "cell_type": "code",
   "execution_count": null,
   "metadata": {
    "collapsed": true
   },
   "outputs": [],
   "source": []
  }
 ],
 "metadata": {
  "kernelspec": {
   "display_name": "Python 3",
   "language": "python",
   "name": "python3"
  },
  "language_info": {
   "codemirror_mode": {
    "name": "ipython",
    "version": 3
   },
   "file_extension": ".py",
   "mimetype": "text/x-python",
   "name": "python",
   "nbconvert_exporter": "python",
   "pygments_lexer": "ipython3",
   "version": "3.6.3"
  }
 },
 "nbformat": 4,
 "nbformat_minor": 2
}
