{
 "cells": [
  {
   "cell_type": "code",
   "execution_count": null,
   "metadata": {},
   "outputs": [],
   "source": [
    "%matplotlib notebook\n",
    "import numpy as np\n",
    "import matplotlib\n",
    "import matplotlib.pyplot as plt\n",
    "import seaborn as sns\n",
    "import glob"
   ]
  },
  {
   "cell_type": "code",
   "execution_count": null,
   "metadata": {
    "collapsed": true
   },
   "outputs": [],
   "source": [
    "sns.set_context(\"poster\")\n",
    "sns.set(style = \"ticks\")"
   ]
  },
  {
   "cell_type": "code",
   "execution_count": null,
   "metadata": {
    "collapsed": true
   },
   "outputs": [],
   "source": [
    "#the path in .glob() must be modified to match where data is stored\n",
    "stocks_temp_data = glob.glob('/Users/danslaughter/Desktop/python-seminar/Homeworks/hw_2/hw_2_data/*.txt')\n",
    "stocks_temp_data = sorted(stocks_temp_data)\n",
    "\n",
    "google_stock = np.loadtxt(stocks_temp_data[0], skiprows = 1)\n",
    "temps = np.loadtxt(stocks_temp_data[1], skiprows = 1)\n",
    "yahoo_stock = np.loadtxt(stocks_temp_data[2], skiprows = 1)"
   ]
  },
  {
   "cell_type": "code",
   "execution_count": null,
   "metadata": {
    "collapsed": true
   },
   "outputs": [],
   "source": [
    "google_stock_values = []\n",
    "google_stock_MJF = []\n",
    "temps_values = []\n",
    "temps_MJF = []\n",
    "yahoo_stock_values = []\n",
    "yahoo_stock_MJF = []"
   ]
  },
  {
   "cell_type": "code",
   "execution_count": null,
   "metadata": {},
   "outputs": [],
   "source": [
    "for index in range(len(google_stock)):\n",
    "    google_stock_MJF.append(google_stock[index][0])\n",
    "    google_stock_values.append(google_stock[index][1])\n",
    "\n",
    "for index in range(len(temps)):\n",
    "    temps_MJF.append(temps[index][0])\n",
    "    temps_values.append(temps[index][1])\n",
    "\n",
    "for index in range(len(yahoo_stock)):\n",
    "    yahoo_stock_MJF.append(yahoo_stock[index][0])\n",
    "    yahoo_stock_values.append(yahoo_stock[index][1])"
   ]
  },
  {
   "cell_type": "code",
   "execution_count": null,
   "metadata": {},
   "outputs": [],
   "source": [
    "fig, ax1 = plt.subplots(1, 1)\n",
    "\n",
    "ax2 = ax1.twinx()\n",
    "\n",
    "ax1.plot(yahoo_stock_MJF,yahoo_stock_values, c = 'xkcd:purple',ls = '-', lw = 1, label = 'Yahoo! Stock Value')\n",
    "ax1.plot(google_stock_MJF,google_stock_values, '-b', lw = 1, label = 'Google Stock Value')\n",
    "ax1.minorticks_on()\n",
    "ax1.tick_params(which = 'both', direction = 'in', labelsize = 8)\n",
    "ax1.set_xlabel('Date (MJD)')\n",
    "ax1.set_ylabel('Value (Dollars)')\n",
    "ax1.set_title('New York Temperature, Google, and Yahoo!', fontsize = 16, fontweight = 'bold', fontname = 'cmb10') #cmb10, \n",
    "ax2.minorticks_on()\n",
    "ax2.plot(temps_MJF, temps_values, '--r', lw = 1, label = 'NY Mon. High Temp')\n",
    "ax2.tick_params(which = 'both', direction = 'in', labelsize = 8)\n",
    "ax2.set_ylabel('Temperature ($^{\\circ}$F)')\n",
    "ax2.set_ylim([-150,100])\n",
    "\n",
    "lines1, labels1 = ax1.get_legend_handles_labels()\n",
    "lines2, labels2 = ax2.get_legend_handles_labels()\n",
    "ax2.legend(lines1 + lines2, labels1 + labels2, loc = (0.055,0.475), fontsize = 'xx-small')\n",
    "\n",
    "fig.show()"
   ]
  },
  {
   "cell_type": "code",
   "execution_count": null,
   "metadata": {
    "collapsed": true
   },
   "outputs": [],
   "source": []
  }
 ],
 "metadata": {
  "kernelspec": {
   "display_name": "Python 3",
   "language": "python",
   "name": "python3"
  },
  "language_info": {
   "codemirror_mode": {
    "name": "ipython",
    "version": 3
   },
   "file_extension": ".py",
   "mimetype": "text/x-python",
   "name": "python",
   "nbconvert_exporter": "python",
   "pygments_lexer": "ipython3",
   "version": "3.6.3"
  }
 },
 "nbformat": 4,
 "nbformat_minor": 2
}
