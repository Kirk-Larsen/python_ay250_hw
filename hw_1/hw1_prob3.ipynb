{
 "cells": [
  {
   "cell_type": "code",
   "execution_count": 1,
   "metadata": {
    "collapsed": true
   },
   "outputs": [],
   "source": [
    "import numpy as np\n",
    "import pandas as pd\n",
    "import dateutil.parser as parser\n",
    "from datetime import datetime\n",
    "import matplotlib.pyplot as plt\n",
    "import scipy.signal"
   ]
  },
  {
   "cell_type": "code",
   "execution_count": 2,
   "metadata": {
    "collapsed": true
   },
   "outputs": [],
   "source": [
    "#read in csv's containing data\n",
    "#check path to csv files is correct\n",
    "IceCream_Tenis_Volleyball = pd.read_csv('/Users/danslaughter/Desktop/python-seminar/DataFiles_and_Notebooks/12_pandas/multiTimeline.csv', index_col = 0, parse_dates = [0])\n",
    "Moon = pd.read_csv('/Users/danslaughter/Desktop/python-seminar/DataFiles_and_Notebooks/12_pandas/full_moon.csv', index_col = 0, parse_dates = [0])\n",
    "\n",
    "#merge to create data frame\n",
    "dataFrame_merge = IceCream_Tenis_Volleyball.merge(Moon, left_index = True, right_index = True, how = 'right')\n",
    "\n",
    "#write a merged csv, check path makes sense\n",
    "dataFrame_merge.to_csv('/Users/danslaughter/Desktop/python-seminar/DataFiles_and_Notebooks/12_pandas/merged_data.csv')"
   ]
  },
  {
   "cell_type": "code",
   "execution_count": 3,
   "metadata": {
    "collapsed": true
   },
   "outputs": [],
   "source": [
    "#generate range of frequencies\n",
    "freq = np.linspace(0.0001,4,4000000)"
   ]
  },
  {
   "cell_type": "code",
   "execution_count": 4,
   "metadata": {
    "collapsed": true
   },
   "outputs": [],
   "source": [
    "week = []\n",
    "norm_tennis = []\n",
    "norm_icecream = []\n",
    "norm_Volleyball = []\n",
    "norm_Moon = []"
   ]
  },
  {
   "cell_type": "code",
   "execution_count": 5,
   "metadata": {
    "collapsed": true
   },
   "outputs": [],
   "source": [
    "for index in range(len(dataFrame_merge.index.values)):\n",
    "    week.append(float(index)) #measurements every week \n",
    "    \n",
    "    #offset data by mean\n",
    "    normalized_tennis = float(dataFrame_merge['tennis'][index]) - np.mean(dataFrame_merge['tennis'])\n",
    "    normalized_icecream = float(dataFrame_merge['ice cream'][index]) - np.mean(dataFrame_merge['ice cream'])\n",
    "    normalized_Volleyball = float(dataFrame_merge['Volleyball'][index]) - np.mean(dataFrame_merge['Volleyball'])\n",
    "    normalized_Moon = float(dataFrame_merge['full moon'][index]) - np.mean(dataFrame_merge['full moon'])\n",
    "\n",
    "    norm_tennis.append(normalized_tennis)\n",
    "    norm_icecream.append(normalized_icecream)\n",
    "    norm_Volleyball.append(normalized_Volleyball)\n",
    "    norm_Moon.append(normalized_Moon)"
   ]
  },
  {
   "cell_type": "code",
   "execution_count": 6,
   "metadata": {
    "collapsed": true
   },
   "outputs": [],
   "source": [
    "#lombscargle periodogram to search for perodic signals\n",
    "df_tennis_norm = scipy.signal.lombscargle(np.asarray(week), np.asarray(norm_tennis), freq)\n",
    "df_icecream_norm = scipy.signal.lombscargle(np.asarray(week), np.asarray(norm_icecream), freq)\n",
    "df_Volleyball_norm = scipy.signal.lombscargle(np.asarray(week), np.asarray(norm_Volleyball), freq)\n",
    "df_Moon_norm = scipy.signal.lombscargle(np.asarray(week), np.asarray(norm_Moon), freq)"
   ]
  },
  {
   "cell_type": "code",
   "execution_count": 7,
   "metadata": {},
   "outputs": [
    {
     "name": "stdout",
     "output_type": "stream",
     "text": [
      "The estimated number of days in a year is: 368.757994 days\n",
      "The estimated period of the moon's orbit is: 29.528289 days\n"
     ]
    }
   ],
   "source": [
    "#locate peak in periodogram and back out frequency in weeks\n",
    "tennis_freq = 4*((np.argmax(df_tennis_norm))/4000000)/(2*(np.pi))\n",
    "icecream_freq = 4*((np.argmax(df_icecream_norm))/4000000)/(2*(np.pi))\n",
    "Volleyball_freq = 4*((np.argmax(df_Volleyball_norm))/4000000)/(2*(np.pi))\n",
    "Moon_freq = 4*((np.argmax(df_Moon_norm))/4000000)/(2*(np.pi))\n",
    "\n",
    "average_freq = (1/tennis_freq + 1/icecream_freq + 1/Volleyball_freq) / 3\n",
    "estimate_days_per_year = average_freq * 7 #year in days\n",
    "print('The estimated number of days in a year is: %f days' %estimate_days_per_year)\n",
    "#estimated 368.757994 days\n",
    "\n",
    "estimate_moon_period = (1/Moon_freq)*7 #period in days\n",
    "print('The estimated period of the moon\\'s orbit is: %f days'%estimate_moon_period)\n",
    "#estimated 29.528289 days"
   ]
  }
 ],
 "metadata": {
  "kernelspec": {
   "display_name": "Python 3",
   "language": "python",
   "name": "python3"
  },
  "language_info": {
   "codemirror_mode": {
    "name": "ipython",
    "version": 3
   },
   "file_extension": ".py",
   "mimetype": "text/x-python",
   "name": "python",
   "nbconvert_exporter": "python",
   "pygments_lexer": "ipython3",
   "version": "3.6.3"
  }
 },
 "nbformat": 4,
 "nbformat_minor": 2
}
