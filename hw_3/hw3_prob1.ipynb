{
 "cells": [
  {
   "cell_type": "code",
   "execution_count": 1,
   "metadata": {
    "collapsed": true
   },
   "outputs": [],
   "source": [
    "import houndify\n",
    "import pyaudio\n",
    "import wave\n",
    "import sys"
   ]
  },
  {
   "cell_type": "code",
   "execution_count": 2,
   "metadata": {},
   "outputs": [],
   "source": [
    "def record_voice(record_time):\n",
    "    \"\"\"\n",
    "    This function (adapted from class) records the voice of a user \n",
    "    for record_time seconds as a .wav file and then saves the file \n",
    "    to WAVE_OUTPUT_FILENAME\n",
    "    \"\"\"\n",
    "    \n",
    "    chunk = 1024\n",
    "    FORMAT = pyaudio.paInt16\n",
    "    CHANNELS = 1\n",
    "    RATE = 16000\n",
    "    RECORD_SECONDS = record_time\n",
    "    #make sure this path corresponds to where you want to save the .wav file on your machine\n",
    "    WAVE_OUTPUT_FILENAME = '/Users/danslaughter/Desktop/python_ay250_hw_larsen/hw_3/voice.wav'\n",
    "    \n",
    "    p = pyaudio.PyAudio()\n",
    "    stream = p.open(format = FORMAT,\n",
    "        channels = CHANNELS,\n",
    "        rate = RATE,\n",
    "        input = True,\n",
    "        frames_per_buffer = chunk)\n",
    "    all = []\n",
    "    for i in range(0, int(RATE / chunk * RECORD_SECONDS)):\n",
    "        data = stream.read(chunk)\n",
    "        all.append(data)\n",
    "    print(\"* done recording\")\n",
    "    stream.close()\n",
    "    p.terminate()\n",
    "    \n",
    "    data = b\"\".join(all)\n",
    "    wf = wave.open(WAVE_OUTPUT_FILENAME, \"wb\")\n",
    "    wf.setnchannels(CHANNELS)\n",
    "    wf.setsampwidth(p.get_sample_size(FORMAT))\n",
    "    wf.setframerate(RATE)\n",
    "    wf.writeframes(data)\n",
    "    wf.close()"
   ]
  },
  {
   "cell_type": "code",
   "execution_count": 3,
   "metadata": {},
   "outputs": [],
   "source": [
    "def Monty():\n",
    "    \"\"\"\n",
    "    This function uses the .wav file containing recorded speech to \n",
    "    make voice queries to the Houndify API \n",
    "    \n",
    "    The Houndify client used in this function has smart talk, email, \n",
    "    and arithmetic domains enabled\n",
    "    \"\"\"\n",
    "    \n",
    "    #Houndify Client ID and key below\n",
    "    CLIENT_ID = 'w-c12X5X0nfxSrHy9PNR7Q=='\n",
    "    CLIENT_KEY = 'FTIrgOY3iV3FGv6vrYOLr5W70cX4FmZMyz6VNuPf_SYoOgKTej9zIkZxHMMLJID6mo_vrOkr3BcsEFbYB46F6A=='\n",
    "    #make sure this path corresponds to where you save the .wav file from record_voice()\n",
    "    AUDIO_FILE = '/Users/danslaughter/Desktop/python_ay250_hw_larsen/hw_3/voice.wav'\n",
    "    BUFFER_SIZE = 512\n",
    "    \n",
    "    requestInfo = {\"UserContactsRequests\":\n",
    "      [\n",
    "          {\n",
    "            \"RequestKind\": \"Add\",\n",
    "            \"NewContacts\":\n",
    "              [\n",
    "                  {\n",
    "                    \"FirstName\": \"Kirk\",\n",
    "                    \"LastName\": \"Larsen\",\n",
    "                    \"EmailEntries\":\n",
    "                      [\n",
    "                          {\n",
    "                            \"Category\": \"School\",\n",
    "                            \"Address\": \"kirk.larsen@berkeley.edu\"\n",
    "                          }\n",
    "                      ],\n",
    "                    \"USERID\": \"001\"\n",
    "                  }\n",
    "              ]\n",
    "          }\n",
    "      ] \n",
    "    }\n",
    "    \n",
    "    #A simple HoundListener\n",
    "    #prints the WrittenResponse contained in AllResults of the final response \n",
    "    #or prints on an error\n",
    "    class MyListener(houndify.HoundListener):\n",
    "      def onFinalResponse(self, response):\n",
    "        print(\"Response: \" + str(response['AllResults'][0]['WrittenResponse']))\n",
    "      def onError(self, err):\n",
    "        print(\"Error: \" + str(err))\n",
    "    \n",
    "    #initialize StreamingHoundClient from main module of python SDK\n",
    "    #to send audio query to Houndify API\n",
    "    client = houndify.StreamingHoundClient(CLIENT_ID, CLIENT_KEY, \"test_user\")\n",
    "    client.setLocation(37.8716, -122.2727) #Berkeley coordinates\n",
    "    \n",
    "    audio = wave.open(AUDIO_FILE)\n",
    "    \n",
    "    #print errors if file isn't suitable\n",
    "    if audio.getsampwidth() != 2:\n",
    "      print(\"%s: wrong sample width (must be 16-bit)\" % fname)\n",
    "    if audio.getframerate() != 8000 and audio.getframerate() != 16000:\n",
    "      print(\"%s: unsupported sampling frequency (must be either 8 or 16 khz)\" % fname)\n",
    "    if audio.getnchannels() != 1:\n",
    "      print(\"%s: must be single channel (mono)\" % fname)\n",
    "    \n",
    "    client.setSampleRate(audio.getframerate())\n",
    "    client.start(MyListener())\n",
    "    \n",
    "    while True:\n",
    "      samples = audio.readframes(BUFFER_SIZE)\n",
    "      if len(samples) == 0: break\n",
    "      if client.fill(samples): break\n",
    "       \n",
    "    result = client.finish() # returns either final response or error"
   ]
  },
  {
   "cell_type": "code",
   "execution_count": 5,
   "metadata": {},
   "outputs": [
    {
     "name": "stdout",
     "output_type": "stream",
     "text": [
      "* done recording\n",
      "Response: A horse walks into a bar. The bartender asks him, \"Why the long face?\"\n"
     ]
    }
   ],
   "source": [
    "#record yourself here (specifiy number of seconds to record as argument of record_voice())\n",
    "#you can say \"tell me a joke\" to hear a joke\n",
    "#or you can ask \"what is one plus one\" etc, to do basic arithmetic\n",
    "#email isn't working yet, sorry!\n",
    "record_voice(3)\n",
    "\n",
    "#Monty called here\n",
    "Monty()"
   ]
  },
  {
   "cell_type": "code",
   "execution_count": null,
   "metadata": {
    "collapsed": true
   },
   "outputs": [],
   "source": []
  }
 ],
 "metadata": {
  "kernelspec": {
   "display_name": "Python 3",
   "language": "python",
   "name": "python3"
  },
  "language_info": {
   "codemirror_mode": {
    "name": "ipython",
    "version": 3
   },
   "file_extension": ".py",
   "mimetype": "text/x-python",
   "name": "python",
   "nbconvert_exporter": "python",
   "pygments_lexer": "ipython3",
   "version": "3.6.4"
  }
 },
 "nbformat": 4,
 "nbformat_minor": 2
}
