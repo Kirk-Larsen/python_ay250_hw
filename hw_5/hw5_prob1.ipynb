{
 "cells": [
  {
   "cell_type": "code",
   "execution_count": 1,
   "metadata": {},
   "outputs": [
    {
     "name": "stdout",
     "output_type": "stream",
     "text": [
      "Populating the interactive namespace from numpy and matplotlib\n"
     ]
    }
   ],
   "source": [
    "import pandas as pd\n",
    "import numpy as np\n",
    "import matplotlib.pyplot as plt\n",
    "import math\n",
    "from bs4 import BeautifulSoup\n",
    "from urllib.request import urlopen\n",
    "import sqlite3\n",
    "import itertools\n",
    "from pprint import pprint\n",
    "%pylab inline"
   ]
  },
  {
   "cell_type": "code",
   "execution_count": 2,
   "metadata": {
    "collapsed": true
   },
   "outputs": [],
   "source": [
    "#I did not realize the airport data was provided but found airport lat/long data elsewhere\n",
    "#I have included the .csv file in the repo\n",
    "#please check that the path to .csv file containing \n",
    "#lat/long of us airports matches the path on the machine\n",
    "\n",
    "LatLong_path = '/Users/danslaughter/Downloads/Airport_Codes_mapped_to_Latitude_Longitude_in_the_United_States.csv'\n",
    "LatLong_DF = pd.read_csv(LatLong_path, index_col = 0, parse_dates = [0])"
   ]
  },
  {
   "cell_type": "code",
   "execution_count": 3,
   "metadata": {
    "collapsed": true
   },
   "outputs": [],
   "source": [
    "#I did not realize the airport data was provided but found the 50 busy airports data elsewhere\n",
    "#URL is a webpage (wiki) containing two tables with info on 50 busy airports in the USA\n",
    "#we use urllib to open URL and read in html\n",
    "\n",
    "URL = 'https://en.wikipedia.org/wiki/List_of_the_busiest_airports_in_the_United_States'\n",
    "response = urlopen(URL)\n",
    "html = response.read()\n",
    "response.close()"
   ]
  },
  {
   "cell_type": "code",
   "execution_count": 4,
   "metadata": {},
   "outputs": [],
   "source": [
    "#we use BeautifulSoup4 to scrape the table from the html\n",
    "soup = BeautifulSoup(html,\"html.parser\")\n",
    "\n",
    "#first we scrape table 1's rows, the table has 31 rows, we want the last 30\n",
    "#table 1 contains busy airports 1-30\n",
    "#grab first five pieces of data from each row (rank, name, IATA code, city served, state)\n",
    "table1_rows = []\n",
    "for index in range(1,31):\n",
    "    table1_rows.append([x.get_text() for x in soup.findAll(\"table\")[0].findAll('tr')[index].findAll('td')[:5]])\n",
    "\n",
    "#next we scrape table 2's rows, the table has 31 rows, we want the first 20 (excluding first row)\n",
    "#table 2 contains busy airports 31-60\n",
    "#grab first five pieces of data from each row (rank, name, IATA code, city served, state)\n",
    "table2_rows = []\n",
    "for index in range(1,21):\n",
    "    table2_rows.append([x.get_text() for x in soup.findAll(\"table\")[1].findAll('tr')[index].findAll('td')[:5]])\n",
    "\n",
    "#join together the data from the two tables\n",
    "#to make list of top 50 busy airports in USA\n",
    "table_rows = table1_rows + table2_rows\n",
    "\n",
    "#join in airport lat/long data from .csv file \n",
    "for index in range(len(table_rows)):\n",
    "    table_rows[index].append(LatLong_DF.get_value(table_rows[index][2], col = 'Latitude'))\n",
    "    table_rows[index].append(LatLong_DF.get_value(table_rows[index][2], col = 'Longitude'))\n",
    "\n",
    "#package up data into a list of tuples\n",
    "#this will make pulling data into SQL database easier \n",
    "tuples = []\n",
    "for index in range(len(table_rows)):\n",
    "    tuples.append(tuple(table_rows[index]))"
   ]
  },
  {
   "cell_type": "code",
   "execution_count": 5,
   "metadata": {
    "scrolled": false
   },
   "outputs": [],
   "source": [
    "#generate list of IATA codes for 50 busy airports\n",
    "airport_IATA = [tuple_[2] for tuple_ in tuples]\n",
    "\n",
    "#generate list containing unique pairs of all IATA codes\n",
    "airport_IATA_pairs = sorted(list(itertools.combinations(airport_IATA, 2)))"
   ]
  },
  {
   "cell_type": "code",
   "execution_count": 6,
   "metadata": {},
   "outputs": [],
   "source": [
    "#here we generate list containing lat distance, long distance, \n",
    "#and total (Euclidian) distance between a given airport pair\n",
    "\n",
    "pairs_lat_long = []\n",
    "for pair in airport_IATA_pairs:\n",
    "    for index in range(len(tuples)):\n",
    "        \n",
    "        if pair[0] == tuples[index][2]: #retrieve lat/long of 1st airport in pair\n",
    "            lat_0 = tuples[index][5]\n",
    "            long_0 = tuples[index][6]\n",
    "            \n",
    "        if pair[1] == tuples[index][2]: #retrieve lat/long of 2nd airport in pair\n",
    "            lat_1 = tuples[index][5]\n",
    "            long_1 = tuples[index][6]\n",
    "            \n",
    "    delta_lat = lat_0 - lat_1 #compute lat dist\n",
    "    delta_long = long_0 - long_1 #compute long dist\n",
    "    dist = np.sqrt(pow(delta_lat, 2) + pow(delta_long, 2)) #compute total dist\n",
    "        \n",
    "    pairs_lat_long.append([list(pair), delta_lat, delta_long, dist]) #build list of IATA pairs and distances"
   ]
  },
  {
   "cell_type": "code",
   "execution_count": 7,
   "metadata": {},
   "outputs": [
    {
     "data": {
      "text/plain": [
       "<sqlite3.Cursor at 0x10fe76f80>"
      ]
     },
     "execution_count": 7,
     "metadata": {},
     "output_type": "execute_result"
    }
   ],
   "source": [
    "!rm /tmp/airports.db\n",
    "\n",
    "#create a SQL db to contain airport data\n",
    "connection = sqlite3.connect(\"/tmp/airports.db\")\n",
    "\n",
    "cursor = connection.cursor()\n",
    "\n",
    "#define a SQL command to create table with our airport info \n",
    "sql_cmd = \"\"\"CREATE TABLE airports (id INTEGER PRIMARY KEY AUTOINCREMENT,\n",
    "    rank TEXT, name TEXT, IATA TEXT, city_served TEXT, state TEXT, lat FLOAT, long FLOAT)\"\"\"\n",
    "\n",
    "#create SQL table\n",
    "cursor.execute(sql_cmd)"
   ]
  },
  {
   "cell_type": "code",
   "execution_count": 8,
   "metadata": {},
   "outputs": [
    {
     "name": "stdout",
     "output_type": "stream",
     "text": [
      "(1, '1', 'Hartsfield–Jackson Atlanta International Airport', 'ATL', 'Atlanta', 'GA', 33.6367, 84.4281)\n",
      "(2, '2', 'Los Angeles International Airport', 'LAX', 'Los Angeles', 'CA', 33.9425, 118.4072)\n",
      "(3, '3', \"O'Hare International Airport\", 'ORD', 'Chicago', 'IL', 41.9808, 87.9067)\n",
      "(4, '4', 'Dallas/Fort Worth International Airport', 'DFW', 'Dallas/Fort Worth', 'TX', 32.8969, 97.0381)\n",
      "(5, '5', 'John F. Kennedy International Airport', 'JFK', 'New York', 'NY', 40.6397, 73.7789)\n",
      "(6, '6', 'Denver International Airport', 'DEN', 'Denver', 'CO', 39.8617, 104.6731)\n",
      "(7, '7', 'San Francisco International Airport', 'SFO', 'San Francisco', 'CA', 37.6189, 122.375)\n",
      "(8, '8', 'McCarran International Airport', 'LAS', 'Las Vegas', 'NV', 36.08, 115.1522)\n",
      "(9, '9', 'Charlotte Douglas International Airport', 'CLT', 'Charlotte', 'NC', 35.2139, 80.9431)\n",
      "(10, '10', 'Seattle–Tacoma International Airport', 'SEA', 'Seattle/Tacoma', 'WA', 47.45, 122.3117)\n",
      "(11, '11', 'Phoenix Sky Harbor International Airport', 'PHX', 'Phoenix', 'AZ', 33.4342, 112.0117)\n",
      "(12, '12', 'Miami International Airport', 'MIA', 'Miami', 'FL', 25.7932, 80.2906)\n",
      "(13, '13', 'Orlando International Airport', 'MCO', 'Orlando', 'FL', 28.4294, 81.3089)\n",
      "(14, '14', 'George Bush Intercontinental Airport', 'IAH', 'Houston', 'TX', 29.9844, 95.3414)\n",
      "(15, '15', 'Newark Liberty International Airport', 'EWR', 'Newark', 'NJ', 40.6925, 74.1686)\n",
      "(16, '16', 'Minneapolis–Saint Paul International Airport', 'MSP', 'Minneapolis/St. Paul', 'MN', 44.8819, 93.2217)\n",
      "(17, '17', 'Logan International Airport', 'BOS', 'Boston', 'MA', 42.3631, 71.0064)\n",
      "(18, '18', 'Detroit Metropolitan Airport', 'DTW', 'Detroit', 'MI', 42.2125, 83.3533)\n",
      "(19, '19', 'Philadelphia International Airport', 'PHL', 'Philadelphia', 'PA', 39.8722, 75.2408)\n",
      "(20, '20', 'LaGuardia Airport', 'LGA', 'New York', 'NY', 40.7772, 73.8725)\n",
      "(21, '21', 'Fort Lauderdale–Hollywood International Airport', 'FLL', 'Fort Lauderdale', 'FL', 26.0726, 80.1528)\n",
      "(22, '22', 'Baltimore–Washington International Airport', 'BWI', 'Baltimore/Washington, D.C.', 'MD', 39.1753, 76.6683)\n",
      "(23, '23', 'Ronald Reagan Washington National Airport', 'DCA', 'Washington, D.C.', 'VA', 38.8522, 77.0378)\n",
      "(24, '24', 'Salt Lake City International Airport', 'SLC', 'Salt Lake City', 'UT', 40.7883, 111.9778)\n",
      "(25, '25', 'Midway International Airport', 'MDW', 'Chicago', 'IL', 41.7861, 87.7525)\n",
      "(26, '26', 'Washington Dulles International Airport', 'IAD', 'Washington, D.C.', 'VA', 38.9475, 77.46)\n",
      "(27, '27', 'San Diego International Airport', 'SAN', 'San Diego', 'CA', 32.7336, 117.1897)\n",
      "(28, '28', 'Daniel K. Inouye International Airport', 'HNL', 'Honolulu', 'HI', 21.3187, 157.9225)\n",
      "(29, '29', 'Tampa International Airport', 'TPA', 'Tampa', 'FL', 27.9756, 82.5333)\n",
      "(30, '30', 'Portland International Airport', 'PDX', 'Portland', 'OR', 45.5883, 122.5975)\n",
      "(31, '31', 'Dallas Love Field', 'DAL', 'Dallas', 'TX', 32.8472, 96.8517)\n",
      "(32, '32', 'St. Louis Lambert International Airport', 'STL', 'St. Louis', 'MO', 38.7486, 90.37)\n",
      "(33, '33', 'Nashville International Airport', 'BNA', 'Nashville', 'TN', 36.1244, 86.6783)\n",
      "(34, '34', 'William P. Hobby Airport', 'HOU', 'Houston', 'TX', 29.6456, 95.2789)\n",
      "(35, '35', 'Austin-Bergstrom International Airport', 'AUS', 'Austin', 'TX', 30.1944, 97.67)\n",
      "(36, '36', 'Oakland International Airport', 'OAK', 'Oakland', 'CA', 37.7214, 122.2208)\n",
      "(37, '37', 'Louis Armstrong New Orleans International Airport', 'MSY', 'New Orleans', 'LA', 29.9933, 90.2581)\n",
      "(38, '38', 'Raleigh-Durham International Airport', 'RDU', 'Raleigh/Durham', 'NC', 35.8778, 78.7875)\n",
      "(39, '39', 'Kansas City International Airport', 'MCI', 'Kansas City', 'MO', 39.2975, 94.7139)\n",
      "(40, '40', 'Norman Y. Mineta San José International Airport', 'SJC', 'San Jose', 'CA', 37.3628, 121.9292)\n",
      "(41, '41', 'John Wayne Airport', 'SNA', 'Santa Ana', 'CA', 33.6756, 117.8683)\n",
      "(42, '42', 'Sacramento International Airport', 'SMF', 'Sacramento', 'CA', 38.6956, 121.5908)\n",
      "(43, '43', 'Luis Muñoz Marín International Airport', 'SJU', 'San Juan', 'PR', 18.4394, 66.0019)\n",
      "(44, '44', 'San Antonio International Airport', 'SAT', 'San Antonio', 'TX', 29.5336, 98.4697)\n",
      "(45, '45', 'Southwest Florida International Airport', 'RSW', 'Fort Myers', 'FL', 26.5362, 81.7553)\n",
      "(46, '46', 'Indianapolis International Airport', 'IND', 'Indianapolis', 'IN', 39.7172, 86.2947)\n",
      "(47, '47', 'Cleveland Hopkins International Airport', 'CLE', 'Cleveland', 'OH', 41.4094, 81.855)\n",
      "(48, '48', 'Pittsburgh International Airport', 'PIT', 'Pittsburgh', 'PA', 40.4914, 80.2328)\n",
      "(49, '49', 'John Glenn Columbus International Airport', 'CMH', 'Columbus', 'OH', 39.9981, 82.8919)\n",
      "(50, '50', 'General Mitchell International Airport', 'MKE', 'Milwaukee', 'WI', 42.9472, 87.8967)\n"
     ]
    }
   ],
   "source": [
    "#insert data into SQL table for each airport in our list of tuples\n",
    "#achieved by looping over each tuple contained in the list tuples\n",
    "\n",
    "for airport in tuples:\n",
    "    sql_cmd = \"INSERT INTO airports (rank, name, IATA, city_served, state, lat, long) VALUES \" + str(airport)\n",
    "    cursor.execute(sql_cmd)\n",
    "\n",
    "#select all data from airport database so we can view it\n",
    "sql_cmd = \"SELECT * FROM airports\"  \n",
    "cursor.execute(sql_cmd)\n",
    "\n",
    "#fetch all data returned and print out each entry\n",
    "db_info = cursor.fetchall()\n",
    "for entry in db_info: \n",
    "    print(entry)\n",
    "    \n",
    "connection.commit()\n",
    "connection.close()"
   ]
  },
  {
   "cell_type": "code",
   "execution_count": 9,
   "metadata": {
    "collapsed": true
   },
   "outputs": [],
   "source": [
    "#create a list of pairs of years to be used in constructing wunderground urls that will be pinged\n",
    "year_pairs = [['2009', '2010'], ['2010', '2011'], ['2011', '2012'], ['2012', '2013'], ['2013', '2014'], \n",
    "              ['2014', '2015'], ['2015', '2016'], ['2016', '2017'], ['2017', '2018']]"
   ]
  },
  {
   "cell_type": "code",
   "execution_count": 10,
   "metadata": {},
   "outputs": [],
   "source": [
    "#create a list containing wunderground urls\n",
    "#each url contains weather data for a given airport across a year (given by year_pairs)\n",
    "#we pull this data for all 50 airports\n",
    "\n",
    "weather_year_urls = []\n",
    "for index1 in range(len(tuples)):\n",
    "    for index2 in range(len(year_pairs)):\n",
    "        \n",
    "        if tuples[index1][2] == 'HNL' or tuples[index1][2] == 'SJU':\n",
    "            weather_year_urls.append('https://www.wunderground.com/history/airport/' + tuples[index1][2] + '/' \n",
    "                                     + year_pairs[index2][0] + '/1/1/CustomHistory.html?dayend=1&monthend=1&yearend=' + \n",
    "                                     year_pairs[index2][1])\n",
    "            \n",
    "        else: \n",
    "            weather_year_urls.append('https://www.wunderground.com/history/airport/K' + tuples[index1][2] + '/' + \n",
    "                                     year_pairs[index2][0] + '/1/1/CustomHistory.html?dayend=1&monthend=1&yearend=' + \n",
    "                                     year_pairs[index2][1])"
   ]
  },
  {
   "cell_type": "code",
   "execution_count": 11,
   "metadata": {
    "collapsed": true
   },
   "outputs": [],
   "source": [
    "#create lists containing months (and their corresponding numeric values)\n",
    "#the number of days in a month (account for leap years) and the leap years in our year range\n",
    "\n",
    "months = [['Jan', '1'], ['Feb', '2'], ['Mar', '3'], ['Apr', '4'], ['May', '5'], ['Jun', '6'], \n",
    "          ['Jul', '7'], ['Aug', '8'], ['Sep', '9'], ['Oct', '10'], ['Nov', '11'], ['Dec', '12']]\n",
    "days_in_months = ['31', '28', '31', '30', '31', '30', '31', '31', '30', '31', '30', '31']\n",
    "days_in_months_leap = ['31', '29', '31', '30', '31', '30', '31', '31', '30', '31', '30', '31']\n",
    "leap_years = ['2012', '2016']"
   ]
  },
  {
   "cell_type": "code",
   "execution_count": 12,
   "metadata": {},
   "outputs": [],
   "source": [
    "#create lists containing the cumulative sum for days_in_months and days_in_months_leap\n",
    "#this is for convenience and will make indexing easier later\n",
    "\n",
    "days_in_months_int = [int(x) for x in days_in_months]\n",
    "days_in_months_int = [0] + days_in_months_int\n",
    "cumulative_days = np.cumsum(days_in_months_int)\n",
    "\n",
    "days_in_months_int_leap = [int(x) for x in days_in_months_leap]\n",
    "days_in_months_int_leap = [0] + days_in_months_int_leap\n",
    "cumulative_days_leap = np.cumsum(days_in_months_int_leap)"
   ]
  },
  {
   "cell_type": "code",
   "execution_count": null,
   "metadata": {
    "scrolled": false
   },
   "outputs": [],
   "source": [
    "########### NOTE ###########\n",
    "#this cell takes ~20 minutes to run - avoid rerunning it\n",
    "#since it takes so long, we have saved the data\n",
    "#and it can be loaded in (see airport_weather.npy)\n",
    "\n",
    "weather_data = []\n",
    "\n",
    "for index in range(len(weather_year_urls)):\n",
    "\n",
    "    #URL is a webpage containing annual weather data from a given airport\n",
    "    #use urllib to open URL and read in html\n",
    "    URL = weather_year_urls[index]\n",
    "    response = urlopen(URL)\n",
    "    html = response.read()\n",
    "    response.close()\n",
    "    \n",
    "    #pull airport IATA code and year from the URL itself\n",
    "    #Honolulu and San Jaun's URLS are slightly different than the rest\n",
    "    if 'HNL' in weather_year_urls[index][42:52] or 'SJU' in weather_year_urls[index][42:52]:\n",
    "        airport = weather_year_urls[index][45:48]\n",
    "        year = weather_year_urls[index][49:53]\n",
    "    else:\n",
    "        airport = weather_year_urls[index][46:49]\n",
    "        year = weather_year_urls[index][50:54]\n",
    "    \n",
    "    #use BeautifulSoup4 to scrape the table from the html\n",
    "    soup = BeautifulSoup(html,\"html.parser\")\n",
    "    \n",
    "    #scrape all data from the table in URL\n",
    "    temp_rows = [x.get_text().replace('\\n', ' ').replace('\\t', '').replace('\\xa0', '') \n",
    "                 for x in soup.findAll('table')[1].findAll('td')]\n",
    "    \n",
    "    #format the data from the table\n",
    "    #we replace any entries that contain text (effectively removing the 'events' column) with empty strings, \n",
    "    #while ignoring ' T ' which often appears in the precip column (which we want to keep)\n",
    "    for index1 in range(len(temp_rows)):\n",
    "        if any(char.isalpha() for char in temp_rows[index1]) and temp_rows[index1] != ' T ':\n",
    "            temp_rows[index1] = ''\n",
    "            \n",
    "    #format the data from the table\n",
    "    #we now remove all empty strings\n",
    "    temp_rows = [x for x in temp_rows if x != '' and x != '  ']\n",
    "    \n",
    "    #now retrieve relevant data (day, high(low) temp, humidity, precip) from table data\n",
    "    #populate a list of lists with this data for each airport \n",
    "    reduced_rows = []\n",
    "    for index in range(int(len(temp_rows)/20)):\n",
    "        reduced_rows.append([temp_rows[index*20], year, airport, temp_rows[index*20 + 1], \n",
    "                                  temp_rows[index*20 + 3], temp_rows[index*20 + 8], \n",
    "                                  temp_rows[index*20 + 19]])\n",
    "\n",
    "    #next insert the corresponding month into each list in reduced_rows\n",
    "    #watch out for leap years!\n",
    "    if year == leap_years[0] or year == leap_years[1]:\n",
    "        for index1 in range(len(months)):\n",
    "            for index2 in range(int(days_in_months_leap[index1])):\n",
    "                #reduced_rows[cumulative_days_leap[index1] + index2].append(months[index1])\n",
    "                reduced_rows[cumulative_days_leap[index1] + index2].insert(0, months[index1][1])\n",
    "\n",
    "    else: \n",
    "        for index1 in range(len(months)):\n",
    "            for index2 in range(int(days_in_months[index1])):\n",
    "                #reduced_rows[cumulative_days[index1] + index2].append(months[index1])\n",
    "                reduced_rows[cumulative_days[index1] + index2].insert(0, months[index1][1])\n",
    "    \n",
    "    #create a nicely formatted date from day, month, year\n",
    "    #add this data to our list of relevant data (reduced_rows)\n",
    "    for index in range(len(reduced_rows)):\n",
    "        if len(reduced_rows[index][1]) < 2 and len(reduced_rows[index][0]) < 2:\n",
    "            reduced_rows[index].insert(0, '0' + reduced_rows[index][0] + '/0' + reduced_rows[index][1] + \n",
    "                                       '/' + reduced_rows[index][2])\n",
    "        elif len(reduced_rows[index][1]) < 2:\n",
    "            reduced_rows[index].insert(0, reduced_rows[index][0] + '/0' + reduced_rows[index][1] + \n",
    "                                       '/' + reduced_rows[index][2])\n",
    "        elif len(reduced_rows[index][0]) < 2:\n",
    "            reduced_rows[index].insert(0, '0' + reduced_rows[index][0] + '/' + reduced_rows[index][1] + \n",
    "                                       '/' + reduced_rows[index][2])\n",
    "        else:\n",
    "            reduced_rows[index].insert(0, reduced_rows[index][0] + '/' + reduced_rows[index][1] + \n",
    "                                       '/' + reduced_rows[index][2])\n",
    "    \n",
    "    #convert each list with airport, date and weather information into a tuple for SQL\n",
    "    for index in range(len(reduced_rows)):\n",
    "        weather_data.append(tuple(reduced_rows[index]))\n",
    "\n",
    "#np.save('/Users/danslaughter/Desktop/airport_weather_1.npy', weather_data)"
   ]
  },
  {
   "cell_type": "code",
   "execution_count": 13,
   "metadata": {},
   "outputs": [],
   "source": [
    "########### NOTE ###########\n",
    "#here we read in the historical weather data from all airports we scraped above\n",
    "#we do not need to re-scrape the data every time since it is saved\n",
    "\n",
    "weather_data_pre_fix = np.load('/Users/danslaughter/Desktop/airport_weather.npy')\n",
    "\n",
    "#load the data as tuples using list comprehension\n",
    "#SQL likes tuples\n",
    "weather_data_fix = [tuple(stuff) for stuff in weather_data_pre_fix]"
   ]
  },
  {
   "cell_type": "code",
   "execution_count": 14,
   "metadata": {
    "scrolled": false
   },
   "outputs": [],
   "source": [
    "#prepare a generic SQL query string where we use format to \n",
    "#grab weather data (high temp, precip) from all pairs of airports\n",
    "\n",
    "query = \"SELECT date, high_temp, precip, IATA FROM weather WHERE IATA = '{}' OR IATA = '{}'\"\n",
    "queries = [query.format(IATA_1,IATA_2) for IATA_1, IATA_2 in airport_IATA_pairs]"
   ]
  },
  {
   "cell_type": "code",
   "execution_count": 15,
   "metadata": {},
   "outputs": [
    {
     "data": {
      "text/plain": [
       "<sqlite3.Cursor at 0x10ffea730>"
      ]
     },
     "execution_count": 15,
     "metadata": {},
     "output_type": "execute_result"
    }
   ],
   "source": [
    "!rm /tmp/weather.db\n",
    "\n",
    "#create a SQL db to contain weather data\n",
    "connection = sqlite3.connect(\"/tmp/weather.db\")\n",
    "\n",
    "cursor = connection.cursor()\n",
    "\n",
    "#define a SQL command to create table with our airport weather data \n",
    "sql_cmd = \"\"\"CREATE TABLE weather (id INTEGER PRIMARY KEY AUTOINCREMENT,\n",
    "    date DATE, month TEXT, day TEXT, year TEXT, IATA TEXT, high_temp TEXT, low_temp TEXT, humidity TEXT, precip TEXT)\"\"\"\n",
    "\n",
    "#create SQL table\n",
    "cursor.execute(sql_cmd)"
   ]
  },
  {
   "cell_type": "code",
   "execution_count": 16,
   "metadata": {
    "collapsed": true
   },
   "outputs": [],
   "source": [
    "#insert data into SQL table for each airport pair\n",
    "#achieved by looping over each tuple contained in the weather data we loaded in\n",
    "\n",
    "for weather in weather_data_fix:\n",
    "    sql_cmd = \"INSERT INTO weather (date, month, day, year, IATA, high_temp, low_temp, humidity, precip) VALUES \" + str(weather)\n",
    "    cursor.execute(sql_cmd)"
   ]
  },
  {
   "cell_type": "code",
   "execution_count": 17,
   "metadata": {
    "scrolled": false
   },
   "outputs": [],
   "source": [
    "#this cell takes ~60 seconds to run\n",
    "#next we determine the correlations between airports by weather (high temp, precip)\n",
    "#we loop over our list of pre-defined queries that grabs weather data \n",
    "#(high temp, precip) from all pairs of airports\n",
    "\n",
    "pair_corr = []\n",
    "for query in queries:\n",
    "    \n",
    "    sql_cmd = query #grab query\n",
    "    cursor.execute(sql_cmd) #run query\n",
    "    db_info = cursor.fetchall() #fetch all data returned\n",
    "\n",
    "    pair = [db_info[1][3], db_info[-1][3]] #grab the airport pair from the query\n",
    "    \n",
    "    temp = [data[1] for data in db_info] #grab temperature data from the query\n",
    "\n",
    "    #here we cast all temp values to ints\n",
    "    #if a temp value is ' - ' (some data missing), we grab the adjacent data that isn't ' - '\n",
    "    #and take the average of these neighbors and replace the missing data with this average\n",
    "    for index, value in enumerate(temp):\n",
    "        if value == '   - ':\n",
    "            try:\n",
    "                temp[index] = int((int(temp[index + 1]) + int(temp[index - 1]))/2)\n",
    "            except ValueError:\n",
    "                try:\n",
    "                    temp[index] = int((int(temp[index + 2]) + int(temp[index - 1]))/2)\n",
    "                except ValueError:\n",
    "                    try:\n",
    "                        temp[index] = int((int(temp[index + 3]) + int(temp[index - 1]))/2)\n",
    "                    except ValueError:\n",
    "                        pass\n",
    "        else:\n",
    "            temp[index] = int(temp[index])\n",
    "    \n",
    "    temp1 = temp[0:int(len(temp)/2)] #temp data for 1st airport in pair\n",
    "    temp2 = temp[int(len(temp)/2):len(temp)] #temp data for 2nd airport in pair\n",
    "    \n",
    "    #compute Pearson correlation coefficient for temperature data of the pair\n",
    "    #given a 1 day, 3 day, and 7 day offset\n",
    "    temp_corr_1 = np.corrcoef(temp1[0 : len(temp1) - 1], temp2[1 : ])[0][1]\n",
    "    temp_corr_3 = np.corrcoef(temp1[0 : len(temp1) - 3], temp2[3 : ])[0][1]\n",
    "    temp_corr_7 = np.corrcoef(temp1[0 : len(temp1) - 7], temp2[7 : ])[0][1]\n",
    "\n",
    "    #grab precip data from the query\n",
    "    #here we cast the precip values to float and set any ' T ' values to 0.0\n",
    "    precip = [float(data[2])\n",
    "              if data[2] != ' T '\n",
    "              else 0.00 \n",
    "              for data in db_info]\n",
    "    \n",
    "    precip1 = precip[0:int(len(precip)/2)] #precip data for 1st airport in pair\n",
    "    precip2 = precip[int(len(precip)/2):len(precip)] #precip data for 2nd airport in pair\n",
    "    \n",
    "    #compute Pearson correlation coefficient for precipitation data of the pair\n",
    "    #given a 1 day, 3 day, and 7 day offset    \n",
    "    precip_corr_1 = np.corrcoef(precip1[0 : len(precip1) - 1], precip2[1 : ])[0][1]\n",
    "    precip_corr_3 = np.corrcoef(precip1[0 : len(precip1) - 3], precip2[3 : ])[0][1]\n",
    "    precip_corr_7 = np.corrcoef(precip1[0 : len(precip1) - 7], precip2[7 : ])[0][1]\n",
    "    \n",
    "    #build a list containing the temp/precip correlations for a given airport pair\n",
    "    pair_corr.append([pair, [temp_corr_1, temp_corr_3, temp_corr_7], [precip_corr_1, precip_corr_3, precip_corr_7]])\n",
    "\n",
    "connection.commit()\n",
    "connection.close()"
   ]
  },
  {
   "cell_type": "code",
   "execution_count": 18,
   "metadata": {},
   "outputs": [],
   "source": [
    "#create a list with strings that will pair up with the correlation data \n",
    "category = ['temp_1_day', 'temp_3_day', 'temp_7_day', 'precip_1_day', 'precip_3_day', 'precip_7_day']\n",
    "\n",
    "#create a list of lambda functions that return correlation data from pair_corr\n",
    "lambdas = [lambda x: abs(x[1][0]), lambda x: abs(x[1][1]), lambda x: abs(x[1][2]), lambda x: abs(x[2][0]), \n",
    "          lambda x: abs(x[2][1]), lambda x: abs(x[2][2])]"
   ]
  },
  {
   "cell_type": "code",
   "execution_count": 19,
   "metadata": {},
   "outputs": [
    {
     "name": "stdout",
     "output_type": "stream",
     "text": [
      "[{'kind': 'temp_1_day',\n",
      "  'values': [(0.9509073996983507, ['ORD', 'DTW']),\n",
      "             (0.94551407028175749, ['LAS', 'PHX']),\n",
      "             (0.94485884019642008, ['DTW', 'PHL']),\n",
      "             (0.94324430994971908, ['MSP', 'MDW']),\n",
      "             (0.94270036271356827, ['MDW', 'CLE']),\n",
      "             (0.94193480653096751, ['MSP', 'DTW']),\n",
      "             (0.94170879692254417, ['ORD', 'CLE']),\n",
      "             (0.94070492295828312, ['DTW', 'LGA']),\n",
      "             (0.93980304319167574, ['MSP', 'MKE']),\n",
      "             (0.9396063415831577, ['IND', 'PIT'])]},\n",
      " {'kind': 'temp_3_day',\n",
      "  'values': [(0.8850645611603517, ['MSP', 'DTW']),\n",
      "             (0.87991799417945449, ['MSP', 'LGA']),\n",
      "             (0.87689190462719124, ['MSP', 'PHL']),\n",
      "             (0.87605018687119385, ['LAS', 'SLC']),\n",
      "             (0.87479557227733629, ['LAS', 'PHX']),\n",
      "             (0.87079197997456392, ['MSP', 'DCA']),\n",
      "             (0.8697136829407407, ['MSP', 'MDW']),\n",
      "             (0.86920398905311036, ['MSP', 'BWI']),\n",
      "             (0.86904053465566977, ['MSP', 'IND']),\n",
      "             (0.86718660320968133, ['MSP', 'IAD'])]},\n",
      " {'kind': 'temp_7_day',\n",
      "  'values': [(0.84448534146220122, ['LAS', 'SLC']),\n",
      "             (0.83541860608767193, ['MSP', 'DTW']),\n",
      "             (0.82780366989262888, ['PHX', 'SLC']),\n",
      "             (0.82775903051609667, ['MSP', 'MDW']),\n",
      "             (0.82703542270382746, ['MSP', 'LGA']),\n",
      "             (0.82569211411636445, ['MSP', 'MKE']),\n",
      "             (0.82490079566503538, ['LAS', 'PHX']),\n",
      "             (0.82397435198829672, ['ORD', 'JFK']),\n",
      "             (0.82179232501370114, ['MSP', 'PHL']),\n",
      "             (0.82097010701255768, ['LAS', 'MSP'])]},\n",
      " {'kind': 'precip_1_day',\n",
      "  'values': [(0.38231695924340092, ['SFO', 'SNA']),\n",
      "             (0.37882477697159783, ['SJC', 'SNA']),\n",
      "             (0.34994663486564409, ['OAK', 'SNA']),\n",
      "             (0.32423674785913242, ['LAX', 'SNA']),\n",
      "             (0.31466616113346113, ['SEA', 'PDX']),\n",
      "             (0.2999218999855493, ['SFO', 'SAN']),\n",
      "             (0.29265558060214597, ['LAX', 'SAN']),\n",
      "             (0.28902953688727806, ['SFO', 'SMF']),\n",
      "             (0.2861927103900837, ['SFO', 'SJC']),\n",
      "             (0.27382988619566462, ['EWR', 'BOS'])]},\n",
      " {'kind': 'precip_3_day',\n",
      "  'values': [(0.17443782480329256, ['LAX', 'SNA']),\n",
      "             (0.15308790174368675, ['LAX', 'SAN']),\n",
      "             (0.14303402696302922, ['LAX', 'SFO']),\n",
      "             (0.14127705972830079, ['LAX', 'OAK']),\n",
      "             (0.13462822669864358, ['SFO', 'OAK']),\n",
      "             (0.13089813690303589, ['LAX', 'SJC']),\n",
      "             (0.1285068162273458, ['HNL', 'SNA']),\n",
      "             (0.11580198777122483, ['OAK', 'SMF']),\n",
      "             (0.11488871459125891, ['LAX', 'SMF']),\n",
      "             (0.110489544368151, ['SFO', 'SMF'])]},\n",
      " {'kind': 'precip_7_day',\n",
      "  'values': [(0.14482074341253071, ['SAN', 'OAK']),\n",
      "             (0.1340594602748458, ['SAN', 'SJC']),\n",
      "             (0.11909773402766054, ['DAL', 'AUS']),\n",
      "             (0.11083323365296219, ['SEA', 'HNL']),\n",
      "             (0.10073086255687271, ['SFO', 'SMF']),\n",
      "             (0.089048029842421217, ['SAN', 'SMF']),\n",
      "             (0.083134683483271757, ['DFW', 'AUS']),\n",
      "             (0.07644192557320563, ['SEA', 'PDX']),\n",
      "             (0.076349029489191741, ['PDX', 'SJC']),\n",
      "             (0.076095308842598838, ['OAK', 'SMF'])]}]\n"
     ]
    }
   ],
   "source": [
    "#create a list of the top ten correlated pairs for each kind in category\n",
    "top_tens = [sorted(pair_corr, key=lambda_, reverse=True)[:10] for lambda_ in lambdas]\n",
    "\n",
    "#create a list containing the indicies of the correlation data\n",
    "indicies = [(index1, index2) for index1 in range(1,3) for index2 in range(3)]\n",
    "\n",
    "#create two dictionaries that contain indicies by category \n",
    "#and top ten correlated pairs by category\n",
    "dict1 = dict(zip(category, indicies))\n",
    "dict2 = dict(zip(category, top_tens))\n",
    "\n",
    "#create a list of dictionaries containing the top ten correlated pairs for a given category\n",
    "corr_cat = []\n",
    "for key in dict1:\n",
    "    index_a, index_b = dict1[key]\n",
    "    all_vals = [(value[index_a][index_b], value[0]) for value in dict2[key]]\n",
    "    dict2[key] = all_vals\n",
    "    d = {'kind' : key, 'values' : all_vals}\n",
    "    corr_cat.append(d)\n",
    "\n",
    "#print out the data so we can see the top correlated pairs for all six categories\n",
    "#and the corresponding Pearson correlation coefficients\n",
    "pprint(corr_cat)"
   ]
  },
  {
   "cell_type": "code",
   "execution_count": 20,
   "metadata": {},
   "outputs": [],
   "source": [
    "#here we pull data from corr_cat and package it up\n",
    "#achieved by looping over the data from a given category and inserting\n",
    "#correlation value, and distances (lat, long, total) into a list\n",
    "\n",
    "temps_1_day = []\n",
    "for index1 in range(10):\n",
    "    for index2 in range(len(pairs_lat_long)):\n",
    "        if pairs_lat_long[index2][0] == corr_cat[0]['values'][index1][1]:\n",
    "            temps_1_day.append([corr_cat[0]['values'][index1], pairs_lat_long[index2][1], \n",
    "                                pairs_lat_long[index2][2], pairs_lat_long[index2][3]])\n",
    "\n",
    "temps_3_day = []\n",
    "for index1 in range(10):\n",
    "    for index2 in range(len(pairs_lat_long)):\n",
    "        if pairs_lat_long[index2][0] == corr_cat[1]['values'][index1][1]:\n",
    "            temps_3_day.append([corr_cat[1]['values'][index1], pairs_lat_long[index2][1], \n",
    "                                pairs_lat_long[index2][2], pairs_lat_long[index2][3]])\n",
    "\n",
    "temps_7_day = []\n",
    "for index1 in range(10):\n",
    "    for index2 in range(len(pairs_lat_long)):\n",
    "        if pairs_lat_long[index2][0] == corr_cat[2]['values'][index1][1]:\n",
    "            temps_7_day.append([corr_cat[2]['values'][index1], pairs_lat_long[index2][1], \n",
    "                                pairs_lat_long[index2][2], pairs_lat_long[index2][3]])\n",
    "\n",
    "precips_1_day = []\n",
    "for index1 in range(10):\n",
    "    for index2 in range(len(pairs_lat_long)):\n",
    "        if pairs_lat_long[index2][0] == corr_cat[3]['values'][index1][1]:\n",
    "            precips_1_day.append([corr_cat[3]['values'][index1], pairs_lat_long[index2][1], \n",
    "                                pairs_lat_long[index2][2], pairs_lat_long[index2][3]])\n",
    "\n",
    "precips_3_day = []\n",
    "for index1 in range(10):\n",
    "    for index2 in range(len(pairs_lat_long)):\n",
    "        if pairs_lat_long[index2][0] == corr_cat[4]['values'][index1][1]:\n",
    "            precips_3_day.append([corr_cat[4]['values'][index1], pairs_lat_long[index2][1], \n",
    "                                pairs_lat_long[index2][2], pairs_lat_long[index2][3]])\n",
    "\n",
    "precips_7_day = []\n",
    "for index1 in range(10):\n",
    "    for index2 in range(len(pairs_lat_long)):\n",
    "        if pairs_lat_long[index2][0] == corr_cat[5]['values'][index1][1]:\n",
    "            precips_7_day.append([corr_cat[5]['values'][index1], pairs_lat_long[index2][1], \n",
    "                                pairs_lat_long[index2][2], pairs_lat_long[index2][3]])  "
   ]
  },
  {
   "cell_type": "code",
   "execution_count": 21,
   "metadata": {},
   "outputs": [],
   "source": [
    "#here we pull correlation value, distance (total) and longitude distance for plotting\n",
    "#data pulled from what we packaged up in previous cell\n",
    "\n",
    "temp_1_corrs = []\n",
    "dists_1 = []\n",
    "dists_long_1 = []\n",
    "for data in temps_1_day:\n",
    "    temp_1_corrs.append(data[0][0])\n",
    "    dists_1.append(data[3])\n",
    "    dists_long_1.append(data[2])\n",
    "\n",
    "temp_3_corrs = []\n",
    "dists_3 = []\n",
    "dists_long_3 = []\n",
    "for data in temps_3_day:\n",
    "    temp_3_corrs.append(data[0][0])\n",
    "    dists_3.append(data[3])\n",
    "    dists_long_3.append(data[2])\n",
    "    \n",
    "temp_7_corrs = []\n",
    "dists_7 = []\n",
    "dists_long_7 = []\n",
    "for data in temps_7_day:\n",
    "    temp_7_corrs.append(data[0][0])\n",
    "    dists_7.append(data[3])\n",
    "    dists_long_7.append(data[2])\n",
    "    \n",
    "precip_1_corrs = []\n",
    "dist_1 = []\n",
    "dist_long_1 = []\n",
    "for data in precips_1_day:\n",
    "    precip_1_corrs.append(data[0][0])\n",
    "    dist_1.append(data[3])\n",
    "    dist_long_1.append(data[2])\n",
    "\n",
    "precip_3_corrs = []\n",
    "dist_3 = []\n",
    "dist_long_3 = []\n",
    "for data in precips_3_day:\n",
    "    precip_3_corrs.append(data[0][0])\n",
    "    dist_3.append(data[3])\n",
    "    dist_long_3.append(data[2])\n",
    "    \n",
    "precip_7_corrs = []\n",
    "dist_7 = []\n",
    "dist_long_7 = []\n",
    "for data in precips_7_day:\n",
    "    precip_7_corrs.append(data[0][0])\n",
    "    dist_7.append(data[3])\n",
    "    dist_long_7.append(data[2])"
   ]
  },
  {
   "cell_type": "code",
   "execution_count": 22,
   "metadata": {},
   "outputs": [
    {
     "name": "stderr",
     "output_type": "stream",
     "text": [
      "/anaconda3/lib/python3.6/site-packages/matplotlib/figure.py:418: UserWarning: matplotlib is currently using a non-GUI backend, so cannot show the figure\n",
      "  \"matplotlib is currently using a non-GUI backend, \"\n"
     ]
    },
    {
     "data": {
      "image/png": "[encoded data removed]",
      "text/plain": [
       "<matplotlib.figure.Figure at 0x1232fa2e8>"
      ]
     },
     "metadata": {},
     "output_type": "display_data"
    }
   ],
   "source": [
    "#here we plot the correlation in temperature between the top 10 pairs\n",
    "#as a function of TOTAL distance between the pair\n",
    "\n",
    "fig, (ax1, ax2, ax3) = plt.subplots(3,1, sharex = True, sharey = True, figsize = (8,5))\n",
    "\n",
    "ax1.scatter(dists_1, temp_1_corrs)\n",
    "ax1.set_title('Temp, 1 day offset')\n",
    "ax2.scatter(dists_3, temp_3_corrs)\n",
    "ax2.set_ylabel('Pearson Correlation Coefficient')\n",
    "ax2.set_title('Temp, 3 day offset')\n",
    "ax3.scatter(dists_7, temp_7_corrs)\n",
    "ax3.set_xlabel('Distance (degrees)')\n",
    "ax3.set_title('Temp, 7 day offset')\n",
    "fig.tight_layout()\n",
    "fig.show()"
   ]
  },
  {
   "cell_type": "code",
   "execution_count": 23,
   "metadata": {},
   "outputs": [
    {
     "name": "stderr",
     "output_type": "stream",
     "text": [
      "/anaconda3/lib/python3.6/site-packages/matplotlib/figure.py:418: UserWarning: matplotlib is currently using a non-GUI backend, so cannot show the figure\n",
      "  \"matplotlib is currently using a non-GUI backend, \"\n"
     ]
    },
    {
     "data": {
      "image/png": "[encoded data removed]",
      "text/plain": [
       "<matplotlib.figure.Figure at 0x11e0c9e10>"
      ]
     },
     "metadata": {},
     "output_type": "display_data"
    }
   ],
   "source": [
    "#here we plot the correlation in temperature between the top 10 pairs\n",
    "#as a function of LONGITUDINAL distance between the pair\n",
    "\n",
    "fig1, (ax10, ax20, ax30) = plt.subplots(3,1, sharex = True, sharey = True, figsize = (8,5))\n",
    "\n",
    "ax10.scatter(dists_long_1, temp_1_corrs)\n",
    "ax10.set_title('Temp, 1 day offset')\n",
    "ax20.scatter(dists_long_3, temp_3_corrs)\n",
    "ax20.set_ylabel('Pearson Correlation Coefficient')\n",
    "ax20.set_title('Temp, 3 day offset')\n",
    "ax30.scatter(dists_long_7, temp_7_corrs)\n",
    "ax30.set_xlabel('Longitudinal Distance (degrees)')\n",
    "ax30.set_title('Temp, 7 day offset')\n",
    "fig1.tight_layout()\n",
    "fig1.show()"
   ]
  },
  {
   "cell_type": "code",
   "execution_count": 24,
   "metadata": {},
   "outputs": [
    {
     "name": "stderr",
     "output_type": "stream",
     "text": [
      "/anaconda3/lib/python3.6/site-packages/matplotlib/figure.py:418: UserWarning: matplotlib is currently using a non-GUI backend, so cannot show the figure\n",
      "  \"matplotlib is currently using a non-GUI backend, \"\n"
     ]
    },
    {
     "data": {
      "image/png": "[encoded data removed]",
      "text/plain": [
       "<matplotlib.figure.Figure at 0x12332b128>"
      ]
     },
     "metadata": {},
     "output_type": "display_data"
    }
   ],
   "source": [
    "#here we plot the correlation in precipitation between the top 10 pairs\n",
    "#as a function of TOTAL distance between the pair\n",
    "\n",
    "fig2, (ax11, ax21, ax31) = plt.subplots(3,1, sharex = True, sharey = True, figsize = (8,5))\n",
    "\n",
    "ax11.scatter(dist_1, precip_1_corrs)\n",
    "ax11.set_title('Precip, 1 day offset')\n",
    "ax21.scatter(dist_3, precip_3_corrs)\n",
    "ax21.set_ylabel('Pearson Correlation Coefficient')\n",
    "ax21.set_title('Precip, 3 day offset')\n",
    "ax31.scatter(dist_7, precip_7_corrs)\n",
    "ax31.set_xlabel('Distance (degrees)')\n",
    "ax31.set_title('Precip, 7 day offset')\n",
    "fig2.tight_layout()\n",
    "fig2.show()"
   ]
  },
  {
   "cell_type": "code",
   "execution_count": 25,
   "metadata": {},
   "outputs": [
    {
     "name": "stderr",
     "output_type": "stream",
     "text": [
      "/anaconda3/lib/python3.6/site-packages/matplotlib/figure.py:418: UserWarning: matplotlib is currently using a non-GUI backend, so cannot show the figure\n",
      "  \"matplotlib is currently using a non-GUI backend, \"\n"
     ]
    },
    {
     "data": {
      "image/png": "[encoded data removed]",
      "text/plain": [
       "<matplotlib.figure.Figure at 0x11e1eba20>"
      ]
     },
     "metadata": {},
     "output_type": "display_data"
    }
   ],
   "source": [
    "#here we plot the correlation in temperature between the top 10 pairs\n",
    "#as a function of LONGITUDINAL distance between the pair\n",
    "\n",
    "fig3, (ax12, ax22, ax32) = plt.subplots(3,1, sharex = True, sharey = True, figsize = (8,5))\n",
    "\n",
    "ax12.scatter(dist_long_1, precip_1_corrs)\n",
    "ax12.set_title('Precip, 1 day offset')\n",
    "ax22.scatter(dist_long_3, precip_3_corrs)\n",
    "ax22.set_ylabel('Pearson Correlation Coefficient')\n",
    "ax22.set_title('Precip, 3 day offset')\n",
    "ax32.scatter(dist_long_7, precip_7_corrs)\n",
    "ax32.set_xlabel('Longitudinal Distance (degrees)')\n",
    "ax32.set_title('Precip, 7 day offset')\n",
    "fig3.tight_layout()\n",
    "fig3.show()"
   ]
  },
  {
   "cell_type": "code",
   "execution_count": null,
   "metadata": {
    "collapsed": true
   },
   "outputs": [],
   "source": []
  }
 ],
 "metadata": {
  "kernelspec": {
   "display_name": "Python 3",
   "language": "python",
   "name": "python3"
  },
  "language_info": {
   "codemirror_mode": {
    "name": "ipython",
    "version": 3
   },
   "file_extension": ".py",
   "mimetype": "text/x-python",
   "name": "python",
   "nbconvert_exporter": "python",
   "pygments_lexer": "ipython3",
   "version": "3.6.4"
  }
 },
 "nbformat": 4,
 "nbformat_minor": 2
}
